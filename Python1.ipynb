{
  "nbformat": 4,
  "nbformat_minor": 0,
  "metadata": {
    "colab": {
      "provenance": [],
      "toc_visible": true,
      "authorship_tag": "ABX9TyMqheqFPznpVWbB3fvUcTzw",
      "include_colab_link": true
    },
    "kernelspec": {
      "name": "python3",
      "display_name": "Python 3"
    },
    "language_info": {
      "name": "python"
    }
  },
  "cells": [
    {
      "cell_type": "markdown",
      "metadata": {
        "id": "view-in-github",
        "colab_type": "text"
      },
      "source": [
        "<a href=\"https://colab.research.google.com/github/Alexanray/python_googlecolab1/blob/main/Python1.ipynb\" target=\"_parent\"><img src=\"https://colab.research.google.com/assets/colab-badge.svg\" alt=\"Open In Colab\"/></a>"
      ]
    },
    {
      "cell_type": "markdown",
      "source": [
        "1. Google Colab - Intro:"
      ],
      "metadata": {
        "id": "lTU5Hi9ypel9"
      }
    },
    {
      "cell_type": "markdown",
      "source": [
        "### **Índice**:\n",
        "\n",
        "1. [Introdução ao Google Colab](#introducao-ao-google-colab)\n",
        "2. [Variáveis](#variaveis)\n",
        "3. [Números](#numeros)\n",
        "4. [Strings](#strings)\n",
        "5. [Booleanos](#booleanos)"
      ],
      "metadata": {
        "id": "Yj3Le0Ph0EIx"
      }
    },
    {
      "cell_type": "markdown",
      "source": [
        "## 1\\. Introdução ao Google Colab ##\n",
        "\n",
        "Atividade geral"
      ],
      "metadata": {
        "id": "rTe5yFb70rlg"
      }
    },
    {
      "cell_type": "code",
      "execution_count": null,
      "metadata": {
        "colab": {
          "base_uri": "https://localhost:8080/"
        },
        "id": "5LRfD6PVnx1R",
        "outputId": "4dee769e-64f9-4731-9a47-0c8eebc85bb3"
      },
      "outputs": [
        {
          "output_type": "stream",
          "name": "stdout",
          "text": [
            "Hello, World!\n"
          ]
        }
      ],
      "source": [
        "print (\"Hello, World!\")"
      ]
    },
    {
      "cell_type": "markdown",
      "source": [
        "![612bcf90-777a-452f-a501-156348543448.jpg](data:image/jpeg;base64,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)"
      ],
      "metadata": {
        "id": "Z3EaW1Q2yB6d"
      }
    },
    {
      "cell_type": "markdown",
      "source": [
        "| Dia   | Valor Total Vendas | Qtd Total Vendas | Ticket Medio |\n",
        "|-------|--------------------|------------------|-|\n",
        "| 19/01 | 153.98             | 12                |?|\n",
        "| 20/01 | 337.01             | 15                |?|\n",
        "| 23/01 | 295.33             | 28                |?|"
      ],
      "metadata": {
        "id": "9q5FX6Zu4NyF"
      }
    },
    {
      "cell_type": "markdown",
      "source": [
        "Ticket médio diário do dia 19/01."
      ],
      "metadata": {
        "id": "uBxpow0R4U7j"
      }
    },
    {
      "cell_type": "code",
      "source": [
        "svv_19 = 153.98\n",
        "sqv_19 = 12\n",
        "\n",
        "tkt_19 = svv_19 / sqv_19\n",
        "print(tkt_19)"
      ],
      "metadata": {
        "colab": {
          "base_uri": "https://localhost:8080/"
        },
        "id": "4JKOKtEB34Zq",
        "outputId": "fe30d09b-ce70-4547-c156-45acfebb5f22"
      },
      "execution_count": null,
      "outputs": [
        {
          "output_type": "stream",
          "name": "stdout",
          "text": [
            "12.831666666666665\n"
          ]
        }
      ]
    },
    {
      "cell_type": "markdown",
      "source": [
        "Ticket médio diário do dia 20/01."
      ],
      "metadata": {
        "id": "hpPQe8rC4V5-"
      }
    },
    {
      "cell_type": "code",
      "source": [
        "svv_20 = 337.01\n",
        "sqv_20 = 15\n",
        "\n",
        "tkt_20 = svv_20 / sqv_20\n",
        "print(tkt_20)"
      ],
      "metadata": {
        "colab": {
          "base_uri": "https://localhost:8080/"
        },
        "id": "YoGqA_oR35-P",
        "outputId": "5bae1316-fc06-4110-d474-9d7390985ffe"
      },
      "execution_count": null,
      "outputs": [
        {
          "output_type": "stream",
          "name": "stdout",
          "text": [
            "22.467333333333332\n"
          ]
        }
      ]
    },
    {
      "cell_type": "markdown",
      "source": [
        "Ticket médio diário do dia 21/01."
      ],
      "metadata": {
        "id": "xWviUBqz4YLo"
      }
    },
    {
      "cell_type": "code",
      "source": [
        "svv_23 = 295.33\n",
        "sqv_23 = 28\n",
        "\n",
        "tkt_23 = svv_23 / sqv_23\n",
        "print(tkt_23)"
      ],
      "metadata": {
        "colab": {
          "base_uri": "https://localhost:8080/"
        },
        "id": "0cBL8sKs36ZR",
        "outputId": "bab6c464-9c3c-4091-d360-e6d0c1e4dc94"
      },
      "execution_count": null,
      "outputs": [
        {
          "output_type": "stream",
          "name": "stdout",
          "text": [
            "10.5475\n"
          ]
        }
      ]
    },
    {
      "cell_type": "markdown",
      "source": [
        "Ticket médio"
      ],
      "metadata": {
        "id": "pXIvMIse4aQq"
      }
    },
    {
      "cell_type": "code",
      "source": [
        "tkt = (tkt_19 + tkt_20 + tkt_23) / 3\n",
        "print(tkt)"
      ],
      "metadata": {
        "colab": {
          "base_uri": "https://localhost:8080/"
        },
        "id": "cW7Ttpja3_9u",
        "outputId": "ec7741de-db77-491a-fd14-6ea06fb3d60c"
      },
      "execution_count": null,
      "outputs": [
        {
          "output_type": "stream",
          "name": "stdout",
          "text": [
            "15.282166666666667\n"
          ]
        }
      ]
    },
    {
      "cell_type": "markdown",
      "source": [
        "## 2\\. Variáveis"
      ],
      "metadata": {
        "id": "QkrpCpNf1pyY"
      }
    },
    {
      "cell_type": "markdown",
      "source": [
        "Preencha as células de código para preencher os valores de (A), (B) e (C) na tabela de ticket médio abaixo:\n",
        "\n",
        "| Dia   | Valor Total Vendas | Qtd Total Vendas | Ticket Medio |\n",
        "|-------|--------------------|------------------|--------------|\n",
        "| 19/01 | (A)                | 3                | 320.52       |\n",
        "| 20/01 | 834.47             | (B)              | 119.21       |\n",
        "| 23/01 | 15378.12           | 5                | (C)          |"
      ],
      "metadata": {
        "id": "0oMsyw0UVEYs"
      }
    },
    {
      "cell_type": "code",
      "source": [
        "# Calculando A\n",
        "A = 320.52 * 3"
      ],
      "metadata": {
        "id": "GPVy4ZJOTzSU"
      },
      "execution_count": null,
      "outputs": []
    },
    {
      "cell_type": "code",
      "source": [
        "# Calculando B\n",
        "B = 834.47 / 119.21"
      ],
      "metadata": {
        "id": "PPtT1fQFVVP-"
      },
      "execution_count": null,
      "outputs": []
    },
    {
      "cell_type": "code",
      "source": [
        "# Calculando C\n",
        "C = 15378.12 / 5"
      ],
      "metadata": {
        "id": "54BeSOCYVXA4"
      },
      "execution_count": null,
      "outputs": []
    },
    {
      "cell_type": "code",
      "source": [
        "# Exibindo os resultados\n",
        "print(f\"A = {A}\")\n",
        "print(f\"B = {round(B)}\")  # Arredondamos pois representa quantidade de vendas\n",
        "print(f\"C = {C}\")"
      ],
      "metadata": {
        "colab": {
          "base_uri": "https://localhost:8080/"
        },
        "id": "4q30gVogVeof",
        "outputId": "6bfd0b55-aeed-4983-8f4a-506d7f6b1846"
      },
      "execution_count": null,
      "outputs": [
        {
          "output_type": "stream",
          "name": "stdout",
          "text": [
            "A = 961.56\n",
            "B = 7\n",
            "C = 3075.6240000000003\n"
          ]
        }
      ]
    },
    {
      "cell_type": "markdown",
      "source": [
        "## 3\\.Números"
      ],
      "metadata": {
        "id": "h4br3UMm2ZDY"
      }
    },
    {
      "cell_type": "markdown",
      "source": [
        "Aplique três métodos distintos na *string* abaixo, você pode conferir alguns métodos neste [link](https://www.w3schools.com/python/python_ref_string.asp):"
      ],
      "metadata": {
        "id": "ujocfcFQW4Xo"
      }
    },
    {
      "cell_type": "code",
      "source": [
        "cancao = 'Roda mundo, roda gigante, roda moinho, roda pião.'\n",
        "\n",
        "print(f\"Title: {cancao.title()}\\nUpper: {cancao.upper()}\\nLower: {cancao.lower()}\")"
      ],
      "metadata": {
        "colab": {
          "base_uri": "https://localhost:8080/"
        },
        "id": "NXWWIJsIhUVy",
        "outputId": "1c531620-09b3-4522-d3a2-f2c6ae40ae67"
      },
      "execution_count": null,
      "outputs": [
        {
          "output_type": "stream",
          "name": "stdout",
          "text": [
            "Title: Roda Mundo, Roda Gigante, Roda Moinho, Roda Pião.\n",
            "Upper: RODA MUNDO, RODA GIGANTE, RODA MOINHO, RODA PIÃO.\n",
            "Lower: roda mundo, roda gigante, roda moinho, roda pião.\n"
          ]
        }
      ]
    },
    {
      "cell_type": "markdown",
      "source": [
        "Extraia da string abaixo o valor da taxa **selic** na variável `selic` e o valor do **ano** na variavel `ano`. Imprima os valores na tela."
      ],
      "metadata": {
        "id": "XyrmPkvdljPl"
      }
    },
    {
      "cell_type": "code",
      "source": [
        "import re\n",
        "\n",
        "noticia = 'Selic vai a 2,75% e supera expectativas; é a primeira alta em 6 anos.'\n",
        "\n",
        "# Para extrair a taxa Selic, procure por uma sequência de números seguida por uma vírgula, depois mais números e um símbolo de porcentagem.\n",
        "match_selic = re.search(r'(\\d+,\\d+)%', noticia)\n",
        "if match_selic:\n",
        "    selic = match_selic.group(1)\n",
        "else:\n",
        "    selic = None\n",
        "\n",
        "# Para extrair o ano, calcule o ano atual menos o número de anos mencionado (6 anos no exemplo).\n",
        "match_years_ago = re.search(r'(\\d+) anos', noticia)\n",
        "if match_years_ago:\n",
        "    years_ago = int(match_years_ago.group(1))\n",
        "    current_year = 2023  # Supondo que o ano atual seja 2023\n",
        "    ano = current_year - years_ago\n",
        "else:\n",
        "    ano = None\n",
        "\n",
        "print(\"Taxa Selic:\", selic)\n",
        "print(\"Ano:\", ano)"
      ],
      "metadata": {
        "colab": {
          "base_uri": "https://localhost:8080/"
        },
        "id": "Hh8P0NNflr8P",
        "outputId": "94f67ea5-b3e6-4c5d-c9cb-4d4a547e5c1f"
      },
      "execution_count": null,
      "outputs": [
        {
          "output_type": "stream",
          "name": "stdout",
          "text": [
            "Taxa Selic: 2,75\n",
            "Ano: 2017\n"
          ]
        }
      ]
    },
    {
      "cell_type": "markdown",
      "source": [
        "## 4\\.Booleanos"
      ],
      "metadata": {
        "id": "wE019pDQWXpu"
      }
    },
    {
      "cell_type": "markdown",
      "source": [
        "Utilize a tabela da verdade para responder: qual o valor da variável x?\n",
        "\n",
        "Dadas as variáveis:\n",
        "\n",
        "\n",
        "a = False\n",
        "b = True\n",
        "A expressão a ser avaliada é:\n",
        "\n",
        "x = not a & b\n",
        "A expressão not a inverte o valor de a. Como a é False, not a será True.\n",
        "\n",
        "O operador & realiza uma operação AND entre dois valores booleanos.\n",
        "\n",
        "Portanto, se avaliarmos not a & b com os valores fornecidos, obtemos:\n",
        "\n",
        "x = True & True = True\n",
        "No entanto, é fundamental mencionar a ordem de avaliação dos operadores em Python. O operador not tem precedência sobre &, o que significa que not a será avaliado antes de realizar a operação AND com b."
      ],
      "metadata": {
        "id": "6CqRpCGezFIN"
      }
    },
    {
      "cell_type": "code",
      "source": [
        "# Definindo as variáveis\n",
        "a = False\n",
        "b = True\n",
        "\n",
        "# Calculando o valor de x\n",
        "x = not a & b\n",
        "\n",
        "# Imprimindo o resultado\n",
        "print(x)"
      ],
      "metadata": {
        "colab": {
          "base_uri": "https://localhost:8080/"
        },
        "id": "BHd5EEyKhJIA",
        "outputId": "dc962482-0fc0-4bc8-b5e5-a11b3f9b6a25"
      },
      "execution_count": null,
      "outputs": [
        {
          "output_type": "stream",
          "name": "stdout",
          "text": [
            "True\n"
          ]
        }
      ]
    }
  ]
}